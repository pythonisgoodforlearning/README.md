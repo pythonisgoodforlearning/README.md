{
 "cells": [
  {
   "cell_type": "markdown",
   "id": "6788a4c6",
   "metadata": {},
   "source": [
    "Data Science Tools and Ecosystem"
   ]
  },
  {
   "cell_type": "markdown",
   "id": "9af053c7",
   "metadata": {},
   "source": [
    "In this notebook, Data Science Tools and Ecosystem are summarized.\n",
    "Objectives:\n",
    "Unordered list\n",
    "1. Python\n",
    "2. Sql\n",
    "3. Java script\n",
    "4. Java"
   ]
  },
  {
   "cell_type": "markdown",
   "id": "422d72dd",
   "metadata": {},
   "source": [
    "Some of the popular languages that Data Scientists use are:\n",
    "1. Python\n",
    "2. SQL\n",
    "3. Java"
   ]
  },
  {
   "cell_type": "markdown",
   "id": "dc59cee2",
   "metadata": {},
   "source": [
    "Some of the commonly used libraries used by Data Scientists include: \n",
    "1. Pandas\n",
    "2. Library\n",
    "3. Matplotlib"
   ]
  },
  {
   "cell_type": "markdown",
   "id": "561bf2c4",
   "metadata": {},
   "source": [
    "| Data Science Tools | Jupyter | Tableau | TensorFlow |\n",
    "| ------------------ | ------- | ------- | ---------- |\n",
    "\n"
   ]
  },
  {
   "cell_type": "markdown",
   "id": "de4aac3f",
   "metadata": {},
   "source": [
    "### Below are a few examples of evaluating arithmetic expressions in python\n",
    "Addition: `+`\n",
    "Subtraction: `-`\n",
    "Multiplication: `*`\n",
    "Division: `/`\n",
    "Modulus (remainder): `%`\n",
    "Exponentiation: `**`\n",
    "Floor division (returns the floor value after division): `//`"
   ]
  },
  {
   "cell_type": "code",
   "execution_count": 2,
   "id": "6d818fc1",
   "metadata": {},
   "outputs": [
    {
     "data": {
      "text/plain": [
       "17"
      ]
     },
     "execution_count": 2,
     "metadata": {},
     "output_type": "execute_result"
    }
   ],
   "source": [
    "#this is a simple arithmetic expression to multiply then add integers\n",
    "(3*4)+5"
   ]
  },
  {
   "cell_type": "code",
   "execution_count": 10,
   "id": "3df21ce0",
   "metadata": {},
   "outputs": [
    {
     "name": "stdout",
     "output_type": "stream",
     "text": [
      "200 minutes is 3.3333333333333335\n"
     ]
    }
   ],
   "source": [
    "#this will convert 200 minutes to hours by diving by 60\n",
    "\n",
    "x = 200/60\n",
    "print(\"200 minutes is\", x )"
   ]
  },
  {
   "cell_type": "markdown",
   "id": "c293df6b",
   "metadata": {},
   "source": [
    "## Author: Nasrin"
   ]
  },
  {
   "cell_type": "code",
   "execution_count": null,
   "id": "f4ad4a04",
   "metadata": {},
   "outputs": [],
   "source": []
  }
 ],
 "metadata": {
  "kernelspec": {
   "display_name": "Python 3 (ipykernel)",
   "language": "python",
   "name": "python3"
  },
  "language_info": {
   "codemirror_mode": {
    "name": "ipython",
    "version": 3
   },
   "file_extension": ".py",
   "mimetype": "text/x-python",
   "name": "python",
   "nbconvert_exporter": "python",
   "pygments_lexer": "ipython3",
   "version": "3.11.4"
  }
 },
 "nbformat": 4,
 "nbformat_minor": 5
}
